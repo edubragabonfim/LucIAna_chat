{
 "cells": [
  {
   "cell_type": "code",
   "execution_count": 8,
   "metadata": {},
   "outputs": [
    {
     "data": {
      "text/plain": [
       "True"
      ]
     },
     "execution_count": 8,
     "metadata": {},
     "output_type": "execute_result"
    }
   ],
   "source": [
    "# Import Libraries\n",
    "import pandas as pd\n",
    "import pandas.io.sql as sqlio\n",
    "import psycopg2\n",
    "import os\n",
    "from dotenv import load_dotenv\n",
    "load_dotenv()"
   ]
  },
  {
   "cell_type": "code",
   "execution_count": 9,
   "metadata": {},
   "outputs": [],
   "source": [
    "# Criando uma conexão com o banco PostgreSQL usando a biblioteca psycopg2\n",
    "conn = psycopg2.connect(\n",
    "            user=os.getenv('PG_USER'),\n",
    "            password=os.getenv('PG_PWD'),\n",
    "            host=os.getenv('PG_HOST'),\n",
    "            port=os.getenv('PG_PORT'),\n",
    "            # database=os.getenv('PG_DATABASE')\n",
    "        )\n",
    "\n",
    "cur = conn.cursor()"
   ]
  },
  {
   "cell_type": "code",
   "execution_count": 16,
   "metadata": {},
   "outputs": [
    {
     "name": "stderr",
     "output_type": "stream",
     "text": [
      "C:\\Users\\braga\\AppData\\Local\\Temp\\ipykernel_17736\\2022986412.py:11: UserWarning: pandas only supports SQLAlchemy connectable (engine/connection) or database string URI or sqlite3 DBAPI2 connection. Other DBAPI2 objects are not tested. Please consider using SQLAlchemy.\n",
      "  df_users = sqlio.read_sql_query(df_users_query, conn)\n"
     ]
    },
    {
     "data": {
      "text/html": [
       "<div>\n",
       "<style scoped>\n",
       "    .dataframe tbody tr th:only-of-type {\n",
       "        vertical-align: middle;\n",
       "    }\n",
       "\n",
       "    .dataframe tbody tr th {\n",
       "        vertical-align: top;\n",
       "    }\n",
       "\n",
       "    .dataframe thead th {\n",
       "        text-align: right;\n",
       "    }\n",
       "</style>\n",
       "<table border=\"1\" class=\"dataframe\">\n",
       "  <thead>\n",
       "    <tr style=\"text-align: right;\">\n",
       "      <th></th>\n",
       "      <th>_id_user</th>\n",
       "      <th>date_created</th>\n",
       "      <th>name</th>\n",
       "      <th>phone</th>\n",
       "      <th>type</th>\n",
       "      <th>features_available</th>\n",
       "      <th>id_user_and_name</th>\n",
       "      <th>phone_user_and_name</th>\n",
       "    </tr>\n",
       "  </thead>\n",
       "  <tbody>\n",
       "    <tr>\n",
       "      <th>0</th>\n",
       "      <td>0</td>\n",
       "      <td>2024-06-13 00:21:16.097</td>\n",
       "      <td>Eduardo Bonfim</td>\n",
       "      <td>553199223663</td>\n",
       "      <td>admin</td>\n",
       "      <td>few</td>\n",
       "      <td>0 - Eduardo Bonfim</td>\n",
       "      <td>553199223663 - Eduardo Bonfim</td>\n",
       "    </tr>\n",
       "  </tbody>\n",
       "</table>\n",
       "</div>"
      ],
      "text/plain": [
       "   _id_user            date_created            name         phone   type  \\\n",
       "0         0 2024-06-13 00:21:16.097  Eduardo Bonfim  553199223663  admin   \n",
       "\n",
       "  features_available    id_user_and_name            phone_user_and_name  \n",
       "0                few  0 - Eduardo Bonfim  553199223663 - Eduardo Bonfim  "
      ]
     },
     "execution_count": 16,
     "metadata": {},
     "output_type": "execute_result"
    }
   ],
   "source": [
    "# Consulta da tabela de usuários no banco de dados\n",
    "df_users_query = '''\n",
    "select\n",
    "\t*\n",
    "\t, concat(\"_id_user\", ' - ', initcap(\"name\")) as id_user_and_name\n",
    "\t, concat(phone , ' - ', initcap(\"name\")) as phone_user_and_name  \n",
    "from public.gpt_users gu \n",
    "order by \"_id_user\" \n",
    "'''\n",
    "\n",
    "df_users = sqlio.read_sql_query(df_users_query, conn)\n",
    "\n",
    "df_users.head(1)"
   ]
  },
  {
   "cell_type": "code",
   "execution_count": 15,
   "metadata": {},
   "outputs": [],
   "source": [
    "# Write the update query\n",
    "sql_update_query = \"\"\"UPDATE public.gpt_users\n",
    "                      SET features_available = %s\n",
    "                      WHERE _id_user = %s\"\"\"\n",
    "\n",
    "# Tuple of values to update (new salary, employee id)\n",
    "values_to_update = ('few', 0)\n",
    "\n",
    "# Execute the query\n",
    "cur.execute(sql_update_query, values_to_update)\n",
    "\n",
    "# Commit the changes to the database\n",
    "conn.commit()"
   ]
  },
  {
   "cell_type": "code",
   "execution_count": 20,
   "metadata": {},
   "outputs": [
    {
     "data": {
      "text/plain": [
       "array(['0 - Eduardo Bonfim', '1 - Thiago Braga Bonfim', '2 - Luciana',\n",
       "       '3 - Patrick Yael', '4 - Tiringuiço Reformas',\n",
       "       '5 - Gabriel De Paula', '6 - Ryan', '7 - Gabriela',\n",
       "       '8 - Davi Eduardo', '9 - Gustavin', '10 - Arthur', '11 - Bruna',\n",
       "       '12 - Luiza', '14 - Henrique', '15 - Samuel', '16 - Guedes',\n",
       "       '17 - Valda Bonfim', '18 - Marcos Matos', '19 - Duda',\n",
       "       '20 - Tetelo', '21 - Samuel Gomes', '31 - Danilo Santana',\n",
       "       '32 - Marina Zolini', '33 - ⠀', '34 - Samuel', '35 - Carol Simões',\n",
       "       '36 - Manuela', '37 - Flávia Braga', '38 - Silvia Helena',\n",
       "       '39 - Lucas Federici', '40 - Guilherme', '41 - Vitor',\n",
       "       '42 - Ana Paula✨', '43 - Matheus Almeida', '44 - Julia',\n",
       "       '45 - Victor Catalano', '46 - Ana Clara Magri',\n",
       "       '47 - Gustavo Lamartine', '48 - Joao Pedro',\n",
       "       '49 - Bernardo Campolina', '50 - Pedro Santos'], dtype=object)"
      ]
     },
     "execution_count": 20,
     "metadata": {},
     "output_type": "execute_result"
    }
   ],
   "source": [
    "df_users['id_user_and_name'].unique()"
   ]
  }
 ],
 "metadata": {
  "kernelspec": {
   "display_name": ".venv",
   "language": "python",
   "name": "python3"
  },
  "language_info": {
   "codemirror_mode": {
    "name": "ipython",
    "version": 3
   },
   "file_extension": ".py",
   "mimetype": "text/x-python",
   "name": "python",
   "nbconvert_exporter": "python",
   "pygments_lexer": "ipython3",
   "version": "3.12.5"
  }
 },
 "nbformat": 4,
 "nbformat_minor": 2
}
